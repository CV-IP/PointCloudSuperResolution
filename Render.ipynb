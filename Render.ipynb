{
 "cells": [
  {
   "cell_type": "code",
   "execution_count": null,
   "metadata": {
    "scrolled": false
   },
   "outputs": [],
   "source": [
    "from pandas import read_csv\n",
    "from pyntcloud import PyntCloud\n",
    "\n",
    "def plot(path, scene=None):\n",
    "    if scene:\n",
    "        scene.children = ()\n",
    "    params = {'initial_point_size': 0.01,\n",
    "              'width': 1024,\n",
    "              'height': 1024,\n",
    "              'background': 'white',\n",
    "              'scene': scene,\n",
    "              'return_scene': scene is None,\n",
    "              'azim': 180\n",
    "             }\n",
    "    \n",
    "    cloud = read_csv(path, sep=' ', header=None, names=['x', 'y', 'z', 'nx', 'ny', 'nz'], dtype='float32')\n",
    "    cloud['red'] = 0\n",
    "    cloud['green'] = 0\n",
    "    cloud['blue'] = 255\n",
    "    \n",
    "    cloud = PyntCloud(cloud)\n",
    "    scene_tmp = cloud.plot(**params)\n",
    "    \n",
    "    return scene if scene else scene_tmp"
   ]
  },
  {
   "cell_type": "code",
   "execution_count": null,
   "metadata": {},
   "outputs": [],
   "source": [
    "scene = plot('...')\n",
    "scene = plot('...', scene=scene)"
   ]
  },
  {
   "cell_type": "code",
   "execution_count": null,
   "metadata": {},
   "outputs": [],
   "source": [
    "import numpy as np\n",
    "from pandas import read_csv\n",
    "from pyntcloud import PyntCloud\n",
    "from sklearn.neighbors import NearestNeighbors\n",
    "\n",
    "def plot_diff(pre_path, gt_path, scene):\n",
    "    scene.children = ()\n",
    "    params = {'initial_point_size': 0.005,\n",
    "              'width': 1024,\n",
    "              'height': 1024,\n",
    "              'background': 'white',\n",
    "              'scene': scene,\n",
    "              'return_scene': False,\n",
    "              'azim': 180,\n",
    "              'use_as_color': 'd',\n",
    "              'cmap': 'jet'}\n",
    "    \n",
    "    pre_cloud = read_csv(pre_path, sep=' ', header=None, names=['x', 'y', 'z', 'nx', 'ny', 'nz'], dtype='float32')\n",
    "    gt_cloud = read_csv(gt_path, sep=' ', header=None, names=['x', 'y', 'z', 'nx', 'ny', 'nz'], dtype='float32')\n",
    "    pre_points = pre_cloud.values[:, :3]\n",
    "    gt_points = gt_cloud.values[:, :3]\n",
    "    gt2pre, _ = NearestNeighbors(n_neighbors=1, algorithm='auto').fit(pre_points).kneighbors(gt_points)\n",
    "    pre_cloud['d'] = np.squeeze(gt2pre)\n",
    "    \n",
    "    cloud = PyntCloud(pre_cloud)\n",
    "    cloud.plot(**params)\n",
    "    \n",
    "    return scene"
   ]
  },
  {
   "cell_type": "code",
   "execution_count": null,
   "metadata": {},
   "outputs": [],
   "source": [
    "scene = plot_diff('...', '...', scene=scene)"
   ]
  }
 ],
 "metadata": {
  "anaconda-cloud": {},
  "kernelspec": {
   "display_name": "Python 3",
   "language": "python",
   "name": "python3"
  },
  "language_info": {
   "codemirror_mode": {
    "name": "ipython",
    "version": 3
   },
   "file_extension": ".py",
   "mimetype": "text/x-python",
   "name": "python",
   "nbconvert_exporter": "python",
   "pygments_lexer": "ipython3",
   "version": "3.5.6"
  }
 },
 "nbformat": 4,
 "nbformat_minor": 2
}
